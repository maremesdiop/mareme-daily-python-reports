{
 "cells": [
  {
   "cell_type": "code",
   "execution_count": 1,
   "id": "8512f618",
   "metadata": {},
   "outputs": [],
   "source": [
    "y=4.8134 # defines a variable named y and assigns it the value 4.8134 \n",
    "salutation=\"How are you?\" # defines a variable named salutation and assigns it the value \"how are you\"\n",
    "x=56 "
   ]
  },
  {
   "cell_type": "code",
   "execution_count": 2,
   "id": "44372349",
   "metadata": {},
   "outputs": [
    {
     "name": "stdout",
     "output_type": "stream",
     "text": [
      "4.8134\n",
      "How are you?\n",
      "56\n"
     ]
    }
   ],
   "source": [
    "print(y)\n",
    "print(salutation)\n",
    "print(x)"
   ]
  },
  {
   "cell_type": "code",
   "execution_count": 3,
   "id": "5fdabbb4",
   "metadata": {},
   "outputs": [
    {
     "name": "stdout",
     "output_type": "stream",
     "text": [
      "56 How are you? 4.8134\n"
     ]
    }
   ],
   "source": [
    "print(x,salutation,y)"
   ]
  },
  {
   "cell_type": "code",
   "execution_count": 4,
   "id": "677a05b5",
   "metadata": {},
   "outputs": [
    {
     "name": "stdout",
     "output_type": "stream",
     "text": [
      "7\n",
      "=========\n",
      "7\n"
     ]
    }
   ],
   "source": [
    "x=y=7 # x and y are both assigned the value 7 simultaneously.\n",
    "print(x)\n",
    "print(\"=========\")\n",
    "print(y)"
   ]
  },
  {
   "cell_type": "code",
   "execution_count": null,
   "id": "e17bd3f3",
   "metadata": {},
   "outputs": [],
   "source": []
  },
  {
   "cell_type": "code",
   "execution_count": null,
   "id": "d76e46f3",
   "metadata": {},
   "outputs": [],
   "source": []
  },
  {
   "cell_type": "code",
   "execution_count": null,
   "id": "341c5c93",
   "metadata": {},
   "outputs": [],
   "source": []
  }
 ],
 "metadata": {
  "kernelspec": {
   "display_name": "Python 3 (ipykernel)",
   "language": "python",
   "name": "python3"
  },
  "language_info": {
   "codemirror_mode": {
    "name": "ipython",
    "version": 3
   },
   "file_extension": ".py",
   "mimetype": "text/x-python",
   "name": "python",
   "nbconvert_exporter": "python",
   "pygments_lexer": "ipython3",
   "version": "3.12.3"
  }
 },
 "nbformat": 4,
 "nbformat_minor": 5
}
