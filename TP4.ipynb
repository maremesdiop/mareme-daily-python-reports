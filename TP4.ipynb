{
 "cells": [
  {
   "cell_type": "code",
   "execution_count": 3,
   "id": "8dce4eb8",
   "metadata": {
    "scrolled": true
   },
   "outputs": [
    {
     "name": "stdout",
     "output_type": "stream",
     "text": [
      "Enter a number: 14\n",
      "In range\n"
     ]
    }
   ],
   "source": [
    "# Exercice 50\n",
    "number = int(input(\"Enter a number: \"))\n",
    "\n",
    "if 10 <= number <= 20:\n",
    "    print(\"In range\")\n",
    "else:\n",
    "    print(\"Out of range\")"
   ]
  },
  {
   "cell_type": "code",
   "execution_count": 5,
   "id": "e1800f80",
   "metadata": {},
   "outputs": [
    {
     "name": "stdout",
     "output_type": "stream",
     "text": [
      "Enter a number: 45\n",
      "45 is NOT within 1 of a multiple of 10.\n"
     ]
    }
   ],
   "source": [
    "# Exercice 49\n",
    "def near_multiple_of_10(n):\n",
    "    remainder = n % 10\n",
    "    return remainder <= 1 or remainder >= 9\n",
    "\n",
    "# Example usage:\n",
    "num = int(input(\"Enter a number: \"))\n",
    "if near_multiple_of_10(num):\n",
    "    print(f\"{num} is within 1 of a multiple of 10.\")\n",
    "else:\n",
    "    print(f\"{num} is NOT within 1 of a multiple of 10.\")"
   ]
  },
  {
   "cell_type": "code",
   "execution_count": 14,
   "id": "76a7d5f7",
   "metadata": {},
   "outputs": [
    {
     "name": "stdout",
     "output_type": "stream",
     "text": [
      "Enter a number: 23\n",
      "23 is prime.\n"
     ]
    }
   ],
   "source": [
    "# Exercice 48\n",
    "import math\n",
    "\n",
    "def is_prime(n):\n",
    "    if n <= 1:\n",
    "        return False  \n",
    "    if n <= 3:\n",
    "        return True   \n",
    "    if n % 2 == 0 or n % 3 == 0:\n",
    "        return False  \n",
    "    for i in range(5, int(math.isqrt(n)) + 1, 6):\n",
    "        if n % i == 0 or n % (i + 2) == 0:\n",
    "            return False\n",
    "\n",
    "    return True\n",
    "\n",
    "\n",
    "num = int(input(\"Enter a number: \"))\n",
    "if is_prime(num):\n",
    "    print(f\"{num} is prime.\")\n",
    "else:\n",
    "    print(f\"{num} is not prime.\")\n"
   ]
  },
  {
   "cell_type": "code",
   "execution_count": 13,
   "id": "5aac6114",
   "metadata": {},
   "outputs": [
    {
     "name": "stdout",
     "output_type": "stream",
     "text": [
      "Enter a string: VEFERF\n",
      "Yes\n"
     ]
    }
   ],
   "source": [
    "# Exercice 47\n",
    "def duplicate_letter(l):\n",
    "    l = l.lower()  \n",
    "    seen = set()\n",
    "    \n",
    "    for char in l:\n",
    "        if char.isalpha():  \n",
    "            if char in seen:\n",
    "                return True\n",
    "            seen.add(char)\n",
    "    return False\n",
    "\n",
    "text = input(\"Enter a string: \")\n",
    "if duplicate_letter(text):\n",
    "    print(\"Yes\")\n",
    "else:\n",
    "    print(\"No\")\n"
   ]
  },
  {
   "cell_type": "code",
   "execution_count": 12,
   "id": "936664fd",
   "metadata": {},
   "outputs": [
    {
     "name": "stdout",
     "output_type": "stream",
     "text": [
      "Enter a number: 1\n",
      "1 is not divisible by any number in [2, 3, 5].\n"
     ]
    }
   ],
   "source": [
    "# Exercice 46\n",
    "def divisible_by_any(n, divisors):\n",
    "    for d in divisors:\n",
    "        if d != 0 and n % d == 0:\n",
    "            return True\n",
    "    return False\n",
    "\n",
    "number = int(input(\"Enter a number: \"))\n",
    "list2 = [2, 3, 5]  \n",
    "\n",
    "if divisible_by_any(number, divisor_list):\n",
    "    print(f\"{number} is divisible by at least one number in {divisor_list}.\")\n",
    "else:\n",
    "    print(f\"{number} is not divisible by any number in {divisor_list}.\")\n"
   ]
  },
  {
   "cell_type": "code",
   "execution_count": null,
   "id": "3d371ced",
   "metadata": {},
   "outputs": [],
   "source": []
  }
 ],
 "metadata": {
  "kernelspec": {
   "display_name": "Python 3 (ipykernel)",
   "language": "python",
   "name": "python3"
  },
  "language_info": {
   "codemirror_mode": {
    "name": "ipython",
    "version": 3
   },
   "file_extension": ".py",
   "mimetype": "text/x-python",
   "name": "python",
   "nbconvert_exporter": "python",
   "pygments_lexer": "ipython3",
   "version": "3.12.3"
  }
 },
 "nbformat": 4,
 "nbformat_minor": 5
}
