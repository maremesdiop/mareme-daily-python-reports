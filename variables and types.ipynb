{
 "cells": [
  {
   "cell_type": "code",
   "execution_count": 3,
   "id": "d0b2b8d2",
   "metadata": {},
   "outputs": [],
   "source": [
    "my_first_name = \"Mareme soda\"\n",
    "my_last_name = \"DIOP\"\n",
    "my_age = 26"
   ]
  },
  {
   "cell_type": "code",
   "execution_count": 4,
   "id": "296c9566",
   "metadata": {},
   "outputs": [
    {
     "name": "stdout",
     "output_type": "stream",
     "text": [
      "Mareme soda DIOP 26\n"
     ]
    }
   ],
   "source": [
    "print(my_first_name , my_last_name , my_age)"
   ]
  },
  {
   "cell_type": "code",
   "execution_count": 5,
   "id": "7b13fa79",
   "metadata": {},
   "outputs": [
    {
     "name": "stdout",
     "output_type": "stream",
     "text": [
      "Mareme soda\n",
      "DIOP\n",
      "26\n"
     ]
    }
   ],
   "source": [
    "print ( my_first_name)\n",
    "print(my_last_name)\n",
    "print (my_age)\n"
   ]
  },
  {
   "cell_type": "code",
   "execution_count": 6,
   "id": "2df42e5b",
   "metadata": {},
   "outputs": [
    {
     "data": {
      "text/plain": [
       "int"
      ]
     },
     "execution_count": 6,
     "metadata": {},
     "output_type": "execute_result"
    }
   ],
   "source": [
    "type (my_age)"
   ]
  },
  {
   "cell_type": "code",
   "execution_count": 7,
   "id": "13ae2067",
   "metadata": {},
   "outputs": [
    {
     "data": {
      "text/plain": [
       "str"
      ]
     },
     "execution_count": 7,
     "metadata": {},
     "output_type": "execute_result"
    }
   ],
   "source": [
    "type (my_first_name)"
   ]
  },
  {
   "cell_type": "code",
   "execution_count": 8,
   "id": "0c318612",
   "metadata": {},
   "outputs": [
    {
     "data": {
      "text/plain": [
       "str"
      ]
     },
     "execution_count": 8,
     "metadata": {},
     "output_type": "execute_result"
    }
   ],
   "source": [
    "type (my_last_name)"
   ]
  },
  {
   "cell_type": "code",
   "execution_count": 9,
   "id": "6c737ce5",
   "metadata": {},
   "outputs": [],
   "source": [
    "my_height = 1.65"
   ]
  },
  {
   "cell_type": "code",
   "execution_count": 10,
   "id": "073b5685",
   "metadata": {},
   "outputs": [
    {
     "name": "stdout",
     "output_type": "stream",
     "text": [
      "1.65\n"
     ]
    }
   ],
   "source": [
    "print(my_height)"
   ]
  },
  {
   "cell_type": "code",
   "execution_count": 12,
   "id": "c79c617e",
   "metadata": {},
   "outputs": [
    {
     "data": {
      "text/plain": [
       "float"
      ]
     },
     "execution_count": 12,
     "metadata": {},
     "output_type": "execute_result"
    }
   ],
   "source": [
    "type(my_height)"
   ]
  },
  {
   "cell_type": "code",
   "execution_count": 17,
   "id": "195adcc0",
   "metadata": {},
   "outputs": [],
   "source": [
    "my_int_1 = 5\n",
    "my_int_2 = 3\n",
    "my_float_1 = 1.2"
   ]
  },
  {
   "cell_type": "code",
   "execution_count": 18,
   "id": "dfe92f88",
   "metadata": {},
   "outputs": [
    {
     "name": "stdout",
     "output_type": "stream",
     "text": [
      "5 3 1.2\n"
     ]
    }
   ],
   "source": [
    "print(my_int_1 , my_int_2 , my_float_1)"
   ]
  },
  {
   "cell_type": "code",
   "execution_count": 19,
   "id": "4a0d284a",
   "metadata": {},
   "outputs": [
    {
     "data": {
      "text/plain": [
       "float"
      ]
     },
     "execution_count": 19,
     "metadata": {},
     "output_type": "execute_result"
    }
   ],
   "source": [
    "my_comb_1 = my_float_1 + my_int_1\n",
    "type(my_comb_1)"
   ]
  },
  {
   "cell_type": "code",
   "execution_count": 22,
   "id": "360d85dc",
   "metadata": {},
   "outputs": [],
   "source": [
    "my_1=-15\n",
    "my_float1=float(my_1)"
   ]
  },
  {
   "cell_type": "code",
   "execution_count": 23,
   "id": "fcef613d",
   "metadata": {},
   "outputs": [
    {
     "name": "stdout",
     "output_type": "stream",
     "text": [
      "-15.0\n"
     ]
    }
   ],
   "source": [
    "print(my_float1)"
   ]
  },
  {
   "cell_type": "code",
   "execution_count": 24,
   "id": "e62588f9",
   "metadata": {},
   "outputs": [
    {
     "data": {
      "text/plain": [
       "float"
      ]
     },
     "execution_count": 24,
     "metadata": {},
     "output_type": "execute_result"
    }
   ],
   "source": [
    "type(my_float1)"
   ]
  },
  {
   "cell_type": "code",
   "execution_count": 25,
   "id": "34f9fcb9",
   "metadata": {},
   "outputs": [],
   "source": [
    "my_string=str(my_float1)"
   ]
  },
  {
   "cell_type": "code",
   "execution_count": 26,
   "id": "ed5054ff",
   "metadata": {},
   "outputs": [
    {
     "name": "stdout",
     "output_type": "stream",
     "text": [
      "-15.0\n"
     ]
    }
   ],
   "source": [
    "print(my_string)"
   ]
  },
  {
   "cell_type": "code",
   "execution_count": 27,
   "id": "2b944c6c",
   "metadata": {},
   "outputs": [
    {
     "data": {
      "text/plain": [
       "str"
      ]
     },
     "execution_count": 27,
     "metadata": {},
     "output_type": "execute_result"
    }
   ],
   "source": [
    "type(my_string)"
   ]
  },
  {
   "cell_type": "code",
   "execution_count": 28,
   "id": "9762e9b7",
   "metadata": {},
   "outputs": [
    {
     "data": {
      "text/plain": [
       "'-15.0'"
      ]
     },
     "execution_count": 28,
     "metadata": {},
     "output_type": "execute_result"
    }
   ],
   "source": [
    "my_string"
   ]
  },
  {
   "cell_type": "code",
   "execution_count": 29,
   "id": "f6ab7ea7",
   "metadata": {},
   "outputs": [
    {
     "name": "stdout",
     "output_type": "stream",
     "text": [
      "entrer votre age:26\n"
     ]
    }
   ],
   "source": [
    "my_age=input(\"entrer votre age:\")"
   ]
  },
  {
   "cell_type": "code",
   "execution_count": 30,
   "id": "ad7dd222",
   "metadata": {},
   "outputs": [
    {
     "data": {
      "text/plain": [
       "str"
      ]
     },
     "execution_count": 30,
     "metadata": {},
     "output_type": "execute_result"
    }
   ],
   "source": [
    "type(my_age)"
   ]
  },
  {
   "cell_type": "code",
   "execution_count": 39,
   "id": "a14178d2",
   "metadata": {},
   "outputs": [],
   "source": [
    "my_nice_string = 'I am a student at AIMS senegal'"
   ]
  },
  {
   "cell_type": "code",
   "execution_count": 40,
   "id": "e44c93ad",
   "metadata": {},
   "outputs": [
    {
     "name": "stdout",
     "output_type": "stream",
     "text": [
      "I am a student at AIMS senegal\n"
     ]
    }
   ],
   "source": [
    "print(my_nice_string)"
   ]
  },
  {
   "cell_type": "code",
   "execution_count": 41,
   "id": "20d5917a",
   "metadata": {},
   "outputs": [
    {
     "data": {
      "text/plain": [
       "str"
      ]
     },
     "execution_count": 41,
     "metadata": {},
     "output_type": "execute_result"
    }
   ],
   "source": [
    "type(my_nice_string)"
   ]
  },
  {
   "cell_type": "code",
   "execution_count": 42,
   "id": "183c2418",
   "metadata": {},
   "outputs": [
    {
     "data": {
      "text/plain": [
       "' '"
      ]
     },
     "execution_count": 42,
     "metadata": {},
     "output_type": "execute_result"
    }
   ],
   "source": [
    "my_nice_string[4]"
   ]
  },
  {
   "cell_type": "markdown",
   "id": "78bf50f9",
   "metadata": {},
   "source": []
  },
  {
   "cell_type": "code",
   "execution_count": 43,
   "id": "4a4cad7f",
   "metadata": {},
   "outputs": [
    {
     "data": {
      "text/plain": [
       "'l'"
      ]
     },
     "execution_count": 43,
     "metadata": {},
     "output_type": "execute_result"
    }
   ],
   "source": [
    "my_nice_string[-1]"
   ]
  },
  {
   "cell_type": "code",
   "execution_count": 47,
   "id": "c7b40f31",
   "metadata": {},
   "outputs": [
    {
     "data": {
      "text/plain": [
       "' ma'"
      ]
     },
     "execution_count": 47,
     "metadata": {},
     "output_type": "execute_result"
    }
   ],
   "source": [
    "my_nice_string[1:6:2]"
   ]
  },
  {
   "cell_type": "code",
   "execution_count": null,
   "id": "f2a8b523",
   "metadata": {},
   "outputs": [],
   "source": []
  },
  {
   "cell_type": "code",
   "execution_count": null,
   "id": "fd54fa6a",
   "metadata": {},
   "outputs": [],
   "source": []
  }
 ],
 "metadata": {
  "kernelspec": {
   "display_name": "Python 3 (ipykernel)",
   "language": "python",
   "name": "python3"
  },
  "language_info": {
   "codemirror_mode": {
    "name": "ipython",
    "version": 3
   },
   "file_extension": ".py",
   "mimetype": "text/x-python",
   "name": "python",
   "nbconvert_exporter": "python",
   "pygments_lexer": "ipython3",
   "version": "3.10.12"
  }
 },
 "nbformat": 4,
 "nbformat_minor": 5
}
