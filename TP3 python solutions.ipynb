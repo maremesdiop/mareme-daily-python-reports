{
 "cells": [
  {
   "cell_type": "markdown",
   "id": "2c678158",
   "metadata": {},
   "source": [
    "## Exercice 01"
   ]
  },
  {
   "cell_type": "code",
   "execution_count": 1,
   "id": "218bc687",
   "metadata": {},
   "outputs": [],
   "source": [
    "list_of_integers = [0,1,2,3,4,5,6,7,8,9]"
   ]
  },
  {
   "cell_type": "markdown",
   "id": "3078fe39",
   "metadata": {},
   "source": [
    "## Exercice 2"
   ]
  },
  {
   "cell_type": "code",
   "execution_count": 2,
   "id": "f499581e",
   "metadata": {},
   "outputs": [],
   "source": [
    "tuple = (\"apple\", \"banana\",\"cherry\")"
   ]
  },
  {
   "cell_type": "markdown",
   "id": "b157fe0d",
   "metadata": {},
   "source": [
    "## Exercice 3"
   ]
  },
  {
   "cell_type": "code",
   "execution_count": 4,
   "id": "1764b14f",
   "metadata": {},
   "outputs": [
    {
     "data": {
      "text/plain": [
       "(10, 20, 30, 40)"
      ]
     },
     "execution_count": 4,
     "metadata": {},
     "output_type": "execute_result"
    }
   ],
   "source": [
    "numbers = [10, 20, 30, 40]\n",
    "num = tuple(numbers)"
   ]
  },
  {
   "cell_type": "markdown",
   "id": "0fea9da5",
   "metadata": {},
   "source": [
    "## Exercice 4"
   ]
  },
  {
   "cell_type": "code",
   "execution_count": 8,
   "id": "75ef1098",
   "metadata": {},
   "outputs": [],
   "source": [
    "MY_SET = {1 ,2, 3, 4, 5}"
   ]
  },
  {
   "cell_type": "markdown",
   "id": "a7004ff1",
   "metadata": {},
   "source": [
    "## Exercice 5"
   ]
  },
  {
   "cell_type": "code",
   "execution_count": 9,
   "id": "29788dbf",
   "metadata": {},
   "outputs": [],
   "source": [
    "students={\"name\":\"Alice\", \"age\":\"20\", \"grade\":\"A\"}"
   ]
  },
  {
   "cell_type": "markdown",
   "id": "54419a30",
   "metadata": {},
   "source": [
    "## Exercice 6"
   ]
  },
  {
   "cell_type": "code",
   "execution_count": 10,
   "id": "fdf54c3f",
   "metadata": {},
   "outputs": [
    {
     "data": {
      "text/plain": [
       "20"
      ]
     },
     "execution_count": 10,
     "metadata": {},
     "output_type": "execute_result"
    }
   ],
   "source": [
    "list1 = [10, 20, 30, 40, 50]\n",
    "list1[1]"
   ]
  },
  {
   "cell_type": "markdown",
   "id": "e57f80e1",
   "metadata": {},
   "source": [
    "## Exercice 7"
   ]
  },
  {
   "cell_type": "code",
   "execution_count": 1,
   "id": "4d4aed00",
   "metadata": {},
   "outputs": [
    {
     "data": {
      "text/plain": [
       "['apple', 'banana', 'mango', 'orange']"
      ]
     },
     "execution_count": 1,
     "metadata": {},
     "output_type": "execute_result"
    }
   ],
   "source": [
    "fruits = [\"apple\",\"banana\", \"cherry\", \"orange\"]\n",
    "fruits[2] = 'mango'\n",
    "fruits"
   ]
  },
  {
   "cell_type": "markdown",
   "id": "b0d62904",
   "metadata": {},
   "source": [
    "## Exercice 8"
   ]
  },
  {
   "cell_type": "code",
   "execution_count": 14,
   "id": "341c2f0e",
   "metadata": {},
   "outputs": [
    {
     "data": {
      "text/plain": [
       "{1, 2, 3, 4, 5, 6}"
      ]
     },
     "execution_count": 14,
     "metadata": {},
     "output_type": "execute_result"
    }
   ],
   "source": [
    "numbers = {1, 2, 3, 4, 5}\n",
    "numbers.add(6)"
   ]
  },
  {
   "cell_type": "markdown",
   "id": "9c9b71ac",
   "metadata": {},
   "source": [
    "## Exercice 9"
   ]
  },
  {
   "cell_type": "code",
   "execution_count": 22,
   "id": "cca151d9",
   "metadata": {},
   "outputs": [
    {
     "data": {
      "text/plain": [
       "{'name': 'john', 'city': 'New York'}"
      ]
     },
     "execution_count": 22,
     "metadata": {},
     "output_type": "execute_result"
    }
   ],
   "source": [
    "person = {\"name\": \"john\" , \"age\":25 , \"city\": \"New York\"}\n",
    "del person[\"age\"]\n",
    "person"
   ]
  },
  {
   "cell_type": "markdown",
   "id": "d88febf1",
   "metadata": {},
   "source": [
    "## Exercice 10"
   ]
  },
  {
   "cell_type": "code",
   "execution_count": 24,
   "id": "9212fa61",
   "metadata": {},
   "outputs": [
    {
     "data": {
      "text/plain": [
       "[0, 1, 2, 3, 4, 5, 6, 7, 8, 9]"
      ]
     },
     "execution_count": 24,
     "metadata": {},
     "output_type": "execute_result"
    }
   ],
   "source": [
    "rang =[]\n",
    "for i in range(10):\n",
    "    rang.append(i)\n",
    "rang    "
   ]
  },
  {
   "cell_type": "markdown",
   "id": "e8a79975",
   "metadata": {},
   "source": [
    "## Exercice 11"
   ]
  },
  {
   "cell_type": "code",
   "execution_count": 25,
   "id": "4182068c",
   "metadata": {},
   "outputs": [
    {
     "data": {
      "text/plain": [
       "[1, 4, 9, 16, 25, 36, 49, 64, 81, 100]"
      ]
     },
     "execution_count": 25,
     "metadata": {},
     "output_type": "execute_result"
    }
   ],
   "source": [
    "squares = [i**2 for i in range (1, 11)]\n",
    "squares"
   ]
  },
  {
   "cell_type": "markdown",
   "id": "c7df1dce",
   "metadata": {},
   "source": [
    "## Exercice 12"
   ]
  },
  {
   "cell_type": "code",
   "execution_count": 34,
   "id": "7cc63c1b",
   "metadata": {},
   "outputs": [
    {
     "data": {
      "text/plain": [
       "(2, 4, 6, 8, 10)"
      ]
     },
     "execution_count": 34,
     "metadata": {},
     "output_type": "execute_result"
    }
   ],
   "source": [
    "even=tuple(i*2 for i in range(1,6))\n",
    "even"
   ]
  },
  {
   "cell_type": "markdown",
   "id": "077b2657",
   "metadata": {},
   "source": [
    "## Exercice 13"
   ]
  },
  {
   "cell_type": "code",
   "execution_count": 36,
   "id": "a43bf215",
   "metadata": {},
   "outputs": [
    {
     "name": "stdout",
     "output_type": "stream",
     "text": [
      "apple\n",
      "banana\n",
      "cherry\n"
     ]
    }
   ],
   "source": [
    "fruits = [\"apple\", \"banana\",\"cherry\"]\n",
    "for i in range(0,3) :\n",
    "    print(fruits[i])"
   ]
  },
  {
   "cell_type": "markdown",
   "id": "e95ae677",
   "metadata": {},
   "source": [
    "## Exercice 14"
   ]
  },
  {
   "cell_type": "code",
   "execution_count": 40,
   "id": "ef88fd4a",
   "metadata": {},
   "outputs": [
    {
     "name": "stdout",
     "output_type": "stream",
     "text": [
      "oui\n"
     ]
    }
   ],
   "source": [
    "numbers = {1, 2, 3, 4, 5}\n",
    "if 3 in numbers:\n",
    "    print(\"oui\")\n",
    "else:\n",
    "    print(\"non\")\n",
    "    "
   ]
  },
  {
   "cell_type": "markdown",
   "id": "61e005d6",
   "metadata": {},
   "source": [
    "## Exercice 15"
   ]
  },
  {
   "cell_type": "code",
   "execution_count": 5,
   "id": "9f6fb4b4",
   "metadata": {},
   "outputs": [
    {
     "data": {
      "text/plain": [
       "5"
      ]
     },
     "execution_count": 5,
     "metadata": {},
     "output_type": "execute_result"
    }
   ],
   "source": [
    "numbers={1,2,3,4,5}\n",
    "len(numbers) # use len function to find the length of the tuple"
   ]
  },
  {
   "cell_type": "markdown",
   "id": "3a704117",
   "metadata": {},
   "source": [
    "## Exercice 16"
   ]
  },
  {
   "cell_type": "code",
   "execution_count": 6,
   "id": "1ef6aba2",
   "metadata": {},
   "outputs": [],
   "source": [
    "scores = [80, 85, 90, 95]\n",
    "scores.append(100)"
   ]
  },
  {
   "cell_type": "markdown",
   "id": "3dc9392a",
   "metadata": {},
   "source": [
    "## Exercice 17"
   ]
  },
  {
   "cell_type": "code",
   "execution_count": 26,
   "id": "22f76a6f",
   "metadata": {},
   "outputs": [
    {
     "name": "stdout",
     "output_type": "stream",
     "text": [
      "donner une valeur en entree:3\n",
      "donner une valeur en entree:5\n",
      "donner une valeur en entree:8\n",
      "donner une valeur en entree:9\n",
      "donner une valeur en entree:4\n"
     ]
    },
    {
     "data": {
      "text/plain": [
       "([3, 5, 8, 9, 4], 29)"
      ]
     },
     "execution_count": 26,
     "metadata": {},
     "output_type": "execute_result"
    }
   ],
   "source": [
    "def sum1(x):\n",
    "    sum11=0\n",
    "    list1=[]\n",
    "    for i in range(x):\n",
    "        a=int(input(\"donner une valeur en entree:\"))\n",
    "        list1.append(a)\n",
    "    list1\n",
    "    for i in range(x):\n",
    "        sum11+=list1[i]\n",
    "    sum11\n",
    "    return list1 , sum11\n",
    "sum1(5)"
   ]
  },
  {
   "cell_type": "markdown",
   "id": "ae4419a6",
   "metadata": {},
   "source": [
    "## Exercice 18"
   ]
  },
  {
   "cell_type": "code",
   "execution_count": 40,
   "id": "e3f6ff88",
   "metadata": {},
   "outputs": [
    {
     "data": {
      "text/plain": [
       "[2, 2, 3, 4]"
      ]
     },
     "execution_count": 40,
     "metadata": {},
     "output_type": "execute_result"
    }
   ],
   "source": [
    "\n",
    " LIST = []\n",
    "numbers=[1,2,2,3,4,4,5]\n",
    "for i in numbers:\n",
    "    if i not in LIST:\n",
    "        LIST.append(i)\n",
    "LIST        "
   ]
  },
  {
   "cell_type": "markdown",
   "id": "febec68f",
   "metadata": {},
   "source": [
    "## Exercice 19"
   ]
  },
  {
   "cell_type": "code",
   "execution_count": 41,
   "id": "e66561c8",
   "metadata": {},
   "outputs": [
    {
     "data": {
      "text/plain": [
       "['H', 'E', 'L', 'L', 'O']"
      ]
     },
     "execution_count": 41,
     "metadata": {},
     "output_type": "execute_result"
    }
   ],
   "source": [
    "str1=\"HELLO\"\n",
    "LIST2=[]\n",
    "for i in str1:\n",
    "    LIST2.append(i)\n",
    "LIST2"
   ]
  },
  {
   "cell_type": "markdown",
   "id": "649ca33b",
   "metadata": {},
   "source": [
    "## Exercice 20"
   ]
  },
  {
   "cell_type": "code",
   "execution_count": null,
   "id": "352c41e7",
   "metadata": {},
   "outputs": [],
   "source": [
    "def reverses():\n",
    "    tuple1=(1, 2, 3, 4)\n",
    "    tuple2=tuple1[::-1]\n",
    "    print(tuple2)\n",
    "reverses()\n",
    "    "
   ]
  },
  {
   "cell_type": "markdown",
   "id": "19c4b50e",
   "metadata": {},
   "source": [
    "## Exercice 21"
   ]
  },
  {
   "cell_type": "code",
   "execution_count": null,
   "id": "d85d83f0",
   "metadata": {},
   "outputs": [],
   "source": [
    "dict1 = {\"a\":1,\"b\":2}\n",
    "dict2 = {\"c\":3, \"d\":4}\n",
    "dict1.update(dict2)\n",
    "dict1"
   ]
  },
  {
   "cell_type": "markdown",
   "id": "79d0c959",
   "metadata": {},
   "source": [
    "## Exercice 22"
   ]
  },
  {
   "cell_type": "code",
   "execution_count": 1,
   "id": "069a8373",
   "metadata": {},
   "outputs": [
    {
     "data": {
      "text/plain": [
       "{'0': 0, '1': 1, '2': 4, '3': 9, '4': 16, '5': 25}"
      ]
     },
     "execution_count": 1,
     "metadata": {},
     "output_type": "execute_result"
    }
   ],
   "source": [
    "dicti = {}\n",
    "for i in range(6):\n",
    "    dicti[str(i)] = i**2\n",
    "dicti    "
   ]
  },
  {
   "cell_type": "markdown",
   "id": "6bdc9721",
   "metadata": {},
   "source": [
    "## EXercice 23"
   ]
  },
  {
   "cell_type": "code",
   "execution_count": 2,
   "id": "79553116",
   "metadata": {},
   "outputs": [
    {
     "name": "stdout",
     "output_type": "stream",
     "text": [
      "nom:Marème\n",
      "prénom:soda\n",
      "age:26\n"
     ]
    }
   ],
   "source": [
    "dict_m={\"nom\":\"Marème\",\"prénom\":\"soda\",\"age\":26}\n",
    "for key,value in dict_m.items():\n",
    "    print(f\"{key}:{value}\")"
   ]
  },
  {
   "cell_type": "markdown",
   "id": "b3d765cd",
   "metadata": {},
   "source": [
    "## Exercice 24"
   ]
  },
  {
   "cell_type": "code",
   "execution_count": 4,
   "id": "a356f24a",
   "metadata": {},
   "outputs": [
    {
     "data": {
      "text/plain": [
       "['a', 'b', 'c', 'd', 'e']"
      ]
     },
     "execution_count": 4,
     "metadata": {},
     "output_type": "execute_result"
    }
   ],
   "source": [
    "letters=[chr(i) for i in range(97,102)]\n",
    "letters"
   ]
  },
  {
   "cell_type": "markdown",
   "id": "6ddbccc0",
   "metadata": {},
   "source": [
    "## Exercice 25"
   ]
  },
  {
   "cell_type": "code",
   "execution_count": 7,
   "id": "0a052dcb",
   "metadata": {},
   "outputs": [
    {
     "data": {
      "text/plain": [
       "[('a', 1), ('b', 2), ('c', 3)]"
      ]
     },
     "execution_count": 7,
     "metadata": {},
     "output_type": "execute_result"
    }
   ],
   "source": [
    "digit=[1,2,3]\n",
    "let=[\"a\",\"b\",\"c\"]\n",
    "list(zip(let,digit))"
   ]
  },
  {
   "cell_type": "markdown",
   "id": "a8389c2e",
   "metadata": {},
   "source": [
    "## Exercice 26"
   ]
  },
  {
   "cell_type": "code",
   "execution_count": 9,
   "id": "abf444f3",
   "metadata": {},
   "outputs": [
    {
     "name": "stdout",
     "output_type": "stream",
     "text": [
      "l'index de la valeur 50 est 4\n"
     ]
    }
   ],
   "source": [
    "list1=[10, 20, 30, 40, 50]\n",
    "a=list1.index(50)\n",
    "print(f\"l'index de la valeur 50 est {a}\")\n"
   ]
  },
  {
   "cell_type": "markdown",
   "id": "da307e9a",
   "metadata": {},
   "source": [
    "## Exercice 27"
   ]
  },
  {
   "cell_type": "code",
   "execution_count": 17,
   "id": "ccf86615",
   "metadata": {},
   "outputs": [
    {
     "data": {
      "text/plain": [
       "['Alice', 'Bob', 'Charlie', 'David']"
      ]
     },
     "execution_count": 17,
     "metadata": {},
     "output_type": "execute_result"
    }
   ],
   "source": [
    "names = [\"Bob\", \"Alice\", \"David\",\"Charlie\"]\n",
    "names.sort()\n",
    "names\n"
   ]
  },
  {
   "cell_type": "markdown",
   "id": "3002205c",
   "metadata": {},
   "source": [
    "## Exercice 28"
   ]
  },
  {
   "cell_type": "code",
   "execution_count": 20,
   "id": "5d416c7a",
   "metadata": {},
   "outputs": [
    {
     "name": "stdout",
     "output_type": "stream",
     "text": [
      "faites entrer un nombre:2\n",
      "faites entrer un nombre:6\n",
      "faites entrer un nombre:2\n",
      "faites entrer un nombre:0\n",
      "faites entrer un nombre:7\n",
      "faites entrer un nombre:4\n"
     ]
    },
    {
     "data": {
      "text/plain": [
       "7"
      ]
     },
     "execution_count": 20,
     "metadata": {},
     "output_type": "execute_result"
    }
   ],
   "source": [
    "def mini(numbers):\n",
    "    if not numbers:\n",
    "        raise ValueError(\"The list cannot be empty.\")\n",
    "    \n",
    "    minim = numbers[0]\n",
    "    for num in numbers:\n",
    "        if num > minim:\n",
    "            minim = num\n",
    "    return minim\n",
    "integers=[]\n",
    "for i in range(6):\n",
    "    n=int(input(\"faites entrer un nombre:\"))\n",
    "    integers.append(n)\n",
    "mini(integers)\n"
   ]
  },
  {
   "cell_type": "markdown",
   "id": "d71ba717",
   "metadata": {},
   "source": [
    "## Exercice 29"
   ]
  },
  {
   "cell_type": "code",
   "execution_count": 21,
   "id": "b2902018",
   "metadata": {},
   "outputs": [
    {
     "data": {
      "text/plain": [
       "2"
      ]
     },
     "execution_count": 21,
     "metadata": {},
     "output_type": "execute_result"
    }
   ],
   "source": [
    "fruits = [\"apple\", \"banana\", \"apple\", \"orange\"]\n",
    "fruits.count(\"apple\")"
   ]
  },
  {
   "cell_type": "markdown",
   "id": "edd69a3f",
   "metadata": {},
   "source": [
    "## Exercice 30"
   ]
  },
  {
   "cell_type": "code",
   "execution_count": 28,
   "id": "42587f31",
   "metadata": {},
   "outputs": [
    {
     "data": {
      "text/plain": [
       "'New York'"
      ]
     },
     "execution_count": 28,
     "metadata": {},
     "output_type": "execute_result"
    }
   ],
   "source": [
    "person={\"name\":\"Marème soda DIOP\",\"age\":26,\"city\":\"New York\"}\n",
    "person[\"city\"]"
   ]
  },
  {
   "cell_type": "markdown",
   "id": "b73ffe31",
   "metadata": {},
   "source": [
    "## Exercice 31"
   ]
  },
  {
   "cell_type": "code",
   "execution_count": 35,
   "id": "43aaa284",
   "metadata": {},
   "outputs": [
    {
     "data": {
      "text/plain": [
       "[1, 4, 2, 5]"
      ]
     },
     "execution_count": 35,
     "metadata": {},
     "output_type": "execute_result"
    }
   ],
   "source": [
    "def new_list(duplicates_list):\n",
    "    list1=[]\n",
    "    for item in duplicates_list:\n",
    "        if item not in list1:\n",
    "            list1.append(item)\n",
    "        list1\n",
    "    return list1\n",
    "numbers=[1,4,2,2,4,5,5]\n",
    "new_list(numbers)"
   ]
  },
  {
   "cell_type": "markdown",
   "id": "259b7f70",
   "metadata": {},
   "source": [
    "## Exercice 33"
   ]
  },
  {
   "cell_type": "code",
   "execution_count": 38,
   "id": "ea332042",
   "metadata": {},
   "outputs": [
    {
     "name": "stdout",
     "output_type": "stream",
     "text": [
      "0\n",
      "1\n",
      "4\n",
      "9\n",
      "16\n",
      "25\n",
      "36\n",
      "49\n",
      "64\n",
      "81\n",
      "100\n"
     ]
    }
   ],
   "source": [
    "def square():\n",
    "    for i in range (11):\n",
    "        yield i**2\n",
    "for i in square():\n",
    "    print(i)"
   ]
  },
  {
   "cell_type": "markdown",
   "id": "bcbd17a7",
   "metadata": {},
   "source": [
    "## Exercice 32"
   ]
  },
  {
   "cell_type": "code",
   "execution_count": 3,
   "id": "896b7073",
   "metadata": {},
   "outputs": [
    {
     "data": {
      "text/plain": [
       "[3, 5]"
      ]
     },
     "execution_count": 3,
     "metadata": {},
     "output_type": "execute_result"
    }
   ],
   "source": [
    "def list_intersection(list1, list2):\n",
    "    \n",
    "    return list(set(list1) & set(list2))\n",
    "list1=[1,3,5,7,9]\n",
    "list2=[3,5]\n",
    "list_intersection(list1,list2)\n"
   ]
  },
  {
   "cell_type": "markdown",
   "id": "6ea36ff7",
   "metadata": {},
   "source": [
    "## Exercice 34"
   ]
  },
  {
   "cell_type": "code",
   "execution_count": 4,
   "id": "ac3fb169",
   "metadata": {},
   "outputs": [
    {
     "name": "stdout",
     "output_type": "stream",
     "text": [
      "35\n"
     ]
    }
   ],
   "source": [
    "def sum_dict_values(d):\n",
    "    \n",
    "    return sum(d.values())\n",
    "my_dict = {'a': 10, 'b': 20, 'c': 5}\n",
    "print(sum_dict_values(my_dict))"
   ]
  },
  {
   "cell_type": "markdown",
   "id": "b660e7f0",
   "metadata": {},
   "source": [
    "## Exercice 35"
   ]
  },
  {
   "cell_type": "code",
   "execution_count": 5,
   "id": "4ad58a86",
   "metadata": {},
   "outputs": [
    {
     "name": "stdout",
     "output_type": "stream",
     "text": [
      "[1, 1, 3, 4, 5, 9]\n"
     ]
    }
   ],
   "source": [
    "my_list = [3, 1, 4, 1, 5, 9]\n",
    "\n",
    "# Sort in ascending order\n",
    "sorted_list = sorted(my_list)\n",
    "\n",
    "print(sorted_list)"
   ]
  },
  {
   "cell_type": "markdown",
   "id": "9f888260",
   "metadata": {},
   "source": [
    "## Exercice 36"
   ]
  },
  {
   "cell_type": "code",
   "execution_count": 7,
   "id": "ae2c9b6f",
   "metadata": {},
   "outputs": [
    {
     "name": "stdout",
     "output_type": "stream",
     "text": [
      "fruit_rouge\n"
     ]
    }
   ],
   "source": [
    "def longest_string(string_list):\n",
    "    longest = string_list[0]\n",
    "    for char in string_list:\n",
    "        if len(char) > len(longest):\n",
    "            longest = char\n",
    "    return longest\n",
    "\n",
    "\n",
    "fruits = [\"apple\", \"banana\", \"poivre\", \"fruit_rouge\"]\n",
    "print(longest_string(fruits))  "
   ]
  },
  {
   "cell_type": "markdown",
   "id": "9686833f",
   "metadata": {},
   "source": [
    "## Exercice 37"
   ]
  },
  {
   "cell_type": "code",
   "execution_count": 10,
   "id": "20a1e70b",
   "metadata": {},
   "outputs": [
    {
     "data": {
      "text/plain": [
       "True"
      ]
     },
     "execution_count": 10,
     "metadata": {},
     "output_type": "execute_result"
    }
   ],
   "source": [
    "list1=[1, 2, 3, 4, 5]\n",
    "elements_positif=all(i>0 for i in list1)\n",
    "elements_positif"
   ]
  },
  {
   "cell_type": "markdown",
   "id": "d8d564ea",
   "metadata": {},
   "source": [
    "## Exercice 38"
   ]
  },
  {
   "cell_type": "code",
   "execution_count": 11,
   "id": "eb0f307c",
   "metadata": {},
   "outputs": [
    {
     "name": "stdout",
     "output_type": "stream",
     "text": [
      "[(1, 1), (2, 4), (3, 9), (4, 16), (5, 25)]\n"
     ]
    }
   ],
   "source": [
    "squares = [(n, n**2) for n in range(1, 6)]\n",
    "print(squares)\n"
   ]
  },
  {
   "cell_type": "markdown",
   "id": "e3bd04bb",
   "metadata": {},
   "source": [
    "## Exercice 39"
   ]
  },
  {
   "cell_type": "code",
   "execution_count": 12,
   "id": "daa691ee",
   "metadata": {},
   "outputs": [
    {
     "name": "stdout",
     "output_type": "stream",
     "text": [
      "['a', 'b', 'c']\n"
     ]
    }
   ],
   "source": [
    "def second_elements(list_of_tuple):\n",
    "    \n",
    "    return [lot[1] for lot in list_of_tuple]\n",
    "\n",
    "tuples = [(1, 'a'), (2, 'b'), (3, 'c')]\n",
    "result = second_elements(tuples)\n",
    "print(result)  # Output: ['a', 'b', 'c']\n"
   ]
  },
  {
   "cell_type": "markdown",
   "id": "7c619a09",
   "metadata": {},
   "source": [
    "## Exercice 40 "
   ]
  },
  {
   "cell_type": "code",
   "execution_count": 18,
   "id": "d21b61f5",
   "metadata": {},
   "outputs": [
    {
     "name": "stdout",
     "output_type": "stream",
     "text": [
      "[1, 2, 3, 4, 5, 6, 7, 8]\n"
     ]
    }
   ],
   "source": [
    "def flatten_list(list_in_list):\n",
    "    list1 = []\n",
    "    for sublist in list2:\n",
    "        for item in sublist:\n",
    "            list1.append(item)\n",
    "    return list1\n",
    "flatten_list = lambda list2: [item for sublist in list2 for item in sublist]\n",
    "data = [[1, 2, 3], [4, 5], [6, 7, 8]]\n",
    "print(flatten_list(data))\n"
   ]
  },
  {
   "cell_type": "code",
   "execution_count": null,
   "id": "b86a7060",
   "metadata": {},
   "outputs": [],
   "source": []
  }
 ],
 "metadata": {
  "kernelspec": {
   "display_name": "Python 3 (ipykernel)",
   "language": "python",
   "name": "python3"
  },
  "language_info": {
   "codemirror_mode": {
    "name": "ipython",
    "version": 3
   },
   "file_extension": ".py",
   "mimetype": "text/x-python",
   "name": "python",
   "nbconvert_exporter": "python",
   "pygments_lexer": "ipython3",
   "version": "3.12.3"
  }
 },
 "nbformat": 4,
 "nbformat_minor": 5
}
