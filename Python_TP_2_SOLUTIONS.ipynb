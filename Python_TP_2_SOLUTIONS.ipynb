{
 "cells": [
  {
   "cell_type": "markdown",
   "id": "a8213aa8",
   "metadata": {},
   "source": [
    "## Exercice 01"
   ]
  },
  {
   "cell_type": "code",
   "execution_count": 1,
   "id": "20712b77",
   "metadata": {},
   "outputs": [
    {
     "data": {
      "text/plain": [
       "'Python is amazing!'"
      ]
     },
     "execution_count": 1,
     "metadata": {},
     "output_type": "execute_result"
    }
   ],
   "source": [
    "text=\"Python is amazing!\"\n",
    "text"
   ]
  },
  {
   "cell_type": "markdown",
   "id": "6a62fe2d",
   "metadata": {},
   "source": [
    "## Exercice 02"
   ]
  },
  {
   "cell_type": "code",
   "execution_count": 2,
   "id": "54e48c88",
   "metadata": {},
   "outputs": [
    {
     "data": {
      "text/plain": [
       "13"
      ]
     },
     "execution_count": 2,
     "metadata": {},
     "output_type": "execute_result"
    }
   ],
   "source": [
    "lenght=len(\"Hello, World!\")\n",
    "lenght"
   ]
  },
  {
   "cell_type": "markdown",
   "id": "3e1f6719",
   "metadata": {},
   "source": [
    "## Exercice 3"
   ]
  },
  {
   "cell_type": "code",
   "execution_count": 5,
   "id": "3130644f",
   "metadata": {},
   "outputs": [
    {
     "data": {
      "text/plain": [
       "'PYTHON PROGRAMMING'"
      ]
     },
     "execution_count": 5,
     "metadata": {},
     "output_type": "execute_result"
    }
   ],
   "source": [
    "string=\"python programming\"\n",
    "upper_text= string.upper()\n",
    "upper_text"
   ]
  },
  {
   "cell_type": "markdown",
   "id": "c22baf62",
   "metadata": {},
   "source": [
    "## Exercice 4"
   ]
  },
  {
   "cell_type": "code",
   "execution_count": 7,
   "id": "d2483e41",
   "metadata": {},
   "outputs": [
    {
     "data": {
      "text/plain": [
       "'Artif'"
      ]
     },
     "execution_count": 7,
     "metadata": {},
     "output_type": "execute_result"
    }
   ],
   "source": [
    "String=\"Artificial Intelligence\"\n",
    "charac=String[:5]\n",
    "charac"
   ]
  },
  {
   "cell_type": "markdown",
   "id": "412ed7cd",
   "metadata": {},
   "source": [
    "## Exercice 5"
   ]
  },
  {
   "cell_type": "code",
   "execution_count": 12,
   "id": "2485f457",
   "metadata": {},
   "outputs": [
    {
     "data": {
      "text/plain": [
       "'Hello World'"
      ]
     },
     "execution_count": 12,
     "metadata": {},
     "output_type": "execute_result"
    }
   ],
   "source": [
    "concat=\"Hello\" +\" \" + \"World\"\n"
   ]
  },
  {
   "cell_type": "markdown",
   "id": "8216e6a5",
   "metadata": {},
   "source": [
    "## Exercice 6"
   ]
  },
  {
   "cell_type": "code",
   "execution_count": 13,
   "id": "0a8db54e",
   "metadata": {},
   "outputs": [
    {
     "data": {
      "text/plain": [
       "'The quick brown cat jumps over the lazy cat.'"
      ]
     },
     "execution_count": 13,
     "metadata": {},
     "output_type": "execute_result"
    }
   ],
   "source": [
    "string1=\"The quick brown dog jumps over the lazy dog.\"\n",
    "string1.replace(\"dog\",\"cat\")"
   ]
  },
  {
   "cell_type": "markdown",
   "id": "5c2ec376",
   "metadata": {},
   "source": [
    "## Exercice 7"
   ]
  },
  {
   "cell_type": "code",
   "execution_count": 20,
   "id": "8ecae671",
   "metadata": {},
   "outputs": [
    {
     "data": {
      "text/plain": [
       "['apple', ' banana', ' orange']"
      ]
     },
     "execution_count": 20,
     "metadata": {},
     "output_type": "execute_result"
    }
   ],
   "source": [
    "fruits=\"apple, banana, orange\"\n",
    "fruits_list=fruits.split(\",\")\n",
    "fruits_list\n"
   ]
  },
  {
   "cell_type": "markdown",
   "id": "5bec0703",
   "metadata": {},
   "source": [
    "## Exercice 8"
   ]
  },
  {
   "cell_type": "code",
   "execution_count": 28,
   "id": "f7218d35",
   "metadata": {},
   "outputs": [
    {
     "data": {
      "text/plain": [
       "'My name is Mareme and I am 26 years old'"
      ]
     },
     "execution_count": 28,
     "metadata": {},
     "output_type": "execute_result"
    }
   ],
   "source": [
    "name=\"Mareme\"\n",
    "age=26\n",
    "string2= \"My name is {} and I am {} years old\"\n",
    "string2.format(name,age)"
   ]
  },
  {
   "cell_type": "markdown",
   "id": "7f47a215",
   "metadata": {},
   "source": [
    "## Exercice 9"
   ]
  },
  {
   "cell_type": "code",
   "execution_count": 34,
   "id": "d7a018ff",
   "metadata": {},
   "outputs": [
    {
     "name": "stdout",
     "output_type": "stream",
     "text": [
      "yes\n"
     ]
    }
   ],
   "source": [
    "sentence=\"I love python programming\"\n",
    "SENTENCE=sentence.upper()\n",
    "if \"PYTHON\" in SENTENCE:\n",
    "    print(\"yes\")\n",
    "else:\n",
    "    print(\"no\")"
   ]
  },
  {
   "cell_type": "markdown",
   "id": "0daffce0",
   "metadata": {},
   "source": [
    "## Exercice 10"
   ]
  },
  {
   "cell_type": "code",
   "execution_count": 36,
   "id": "4100cee3",
   "metadata": {},
   "outputs": [
    {
     "data": {
      "text/plain": [
       "4"
      ]
     },
     "execution_count": 36,
     "metadata": {},
     "output_type": "execute_result"
    }
   ],
   "source": [
    "letter=\"Elephant is an elegant animal\"\n",
    "letter=letter.lower()\n",
    "x=letter.count(\"e\")\n",
    "x"
   ]
  },
  {
   "cell_type": "markdown",
   "id": "87554799",
   "metadata": {},
   "source": [
    "## Exercice 11 "
   ]
  },
  {
   "cell_type": "code",
   "execution_count": 2,
   "id": "9ad1c9f3",
   "metadata": {},
   "outputs": [
    {
     "name": "stdout",
     "output_type": "stream",
     "text": [
      "Data Science\n"
     ]
    }
   ],
   "source": [
    "phrase = \"   Data Science   \"\n",
    "phrase2 = phrase.strip()\n",
    "print(phrase2)"
   ]
  },
  {
   "cell_type": "markdown",
   "id": "028f9495",
   "metadata": {},
   "source": [
    "## Exercice 12"
   ]
  },
  {
   "cell_type": "code",
   "execution_count": 4,
   "id": "3f0f5dc2",
   "metadata": {},
   "outputs": [
    {
     "name": "stdout",
     "output_type": "stream",
     "text": [
      "100\n"
     ]
    }
   ],
   "source": [
    "int_value = int(\"100\")\n",
    "print(int_value)"
   ]
  },
  {
   "cell_type": "markdown",
   "id": "45aa6a9e",
   "metadata": {},
   "source": [
    "## Exercice 13"
   ]
  },
  {
   "cell_type": "code",
   "execution_count": 5,
   "id": "c31c4b37",
   "metadata": {},
   "outputs": [
    {
     "name": "stdout",
     "output_type": "stream",
     "text": [
      "pro\n"
     ]
    }
   ],
   "source": [
    "string = \"programming\"\n",
    "extract = string[0:3]\n",
    "print(extract)"
   ]
  },
  {
   "cell_type": "markdown",
   "id": "d29bb508",
   "metadata": {},
   "source": [
    "## Exercice 14"
   ]
  },
  {
   "cell_type": "code",
   "execution_count": 6,
   "id": "f049e033",
   "metadata": {},
   "outputs": [
    {
     "name": "stdout",
     "output_type": "stream",
     "text": [
      "Starts with 'da': False\n",
      "Ends with 'ta': False\n"
     ]
    }
   ],
   "source": [
    "string = \"data\"\n",
    "\n",
    "start = text.startswith(\"da\")\n",
    "end = text.endswith(\"ta\")\n",
    "\n",
    "print(\"Starts with 'da':\", start)\n",
    "print(\"Ends with 'ta':\", end)"
   ]
  },
  {
   "cell_type": "markdown",
   "id": "35c8db2a",
   "metadata": {},
   "source": [
    "## Exercice 15"
   ]
  },
  {
   "cell_type": "code",
   "execution_count": 7,
   "id": "fab6078e",
   "metadata": {},
   "outputs": [
    {
     "name": "stdout",
     "output_type": "stream",
     "text": [
      "gninrael enihcam\n"
     ]
    }
   ],
   "source": [
    "string = \"machine learning\"\n",
    "reversed_text = string[::-1]\n",
    "print(reversed_text)"
   ]
  },
  {
   "cell_type": "markdown",
   "id": "be183adf",
   "metadata": {},
   "source": [
    "## Exercice 16"
   ]
  },
  {
   "cell_type": "code",
   "execution_count": 8,
   "id": "7391d947",
   "metadata": {},
   "outputs": [
    {
     "name": "stdout",
     "output_type": "stream",
     "text": [
      "Machine Learning Is Fun\n"
     ]
    }
   ],
   "source": [
    "text = \"machine learning is fun\"\n",
    "capitalized_text = text.title()\n",
    "print(capitalized_text)"
   ]
  },
  {
   "cell_type": "markdown",
   "id": "fd4e24ce",
   "metadata": {},
   "source": [
    "## Exercice 17"
   ]
  },
  {
   "cell_type": "code",
   "execution_count": 9,
   "id": "cd0d74e9",
   "metadata": {},
   "outputs": [
    {
     "name": "stdout",
     "output_type": "stream",
     "text": [
      "The sun will rise, the day will start,\n",
      "A spark of hope in every heart.\n",
      "Through clouds and storms, we find our way,\n",
      "To brighter skies and better days.\n"
     ]
    }
   ],
   "source": [
    "poem = \"\"\"The sun will rise, the day will start,\n",
    "A spark of hope in every heart.\n",
    "Through clouds and storms, we find our way,\n",
    "To brighter skies and better days.\"\"\"\n",
    "print(poem)"
   ]
  },
  {
   "cell_type": "markdown",
   "id": "a7bff6ea",
   "metadata": {},
   "source": [
    "## Exercice 18"
   ]
  },
  {
   "cell_type": "code",
   "execution_count": 17,
   "id": "ad884429",
   "metadata": {},
   "outputs": [
    {
     "name": "stdout",
     "output_type": "stream",
     "text": [
      "String written to output.txt successfully.\n"
     ]
    }
   ],
   "source": [
    "text2 = \"\"\"Je suis Marème Soda DIOP, étudiante à l'institut africain  des sciences mathématiques\n",
    "          je participe au concours du HACKATON\"\"\"\n",
    "\n",
    "# Open the file in write mode and write the string\n",
    "with open(\"data.txt\", \"w\") as file:\n",
    "    file.write(text2)\n",
    "\n",
    "print(\"String written to output.txt successfully.\")"
   ]
  },
  {
   "cell_type": "markdown",
   "id": "d9316e36",
   "metadata": {},
   "source": [
    "## Exercice 19"
   ]
  },
  {
   "cell_type": "code",
   "execution_count": 18,
   "id": "48bef3eb",
   "metadata": {},
   "outputs": [
    {
     "name": "stdout",
     "output_type": "stream",
     "text": [
      "Je suis Marème Soda DIOP, étudiante à l'institut africain  des sciences mathématiques\n",
      "je participe au concours du HACKATON\n"
     ]
    }
   ],
   "source": [
    "with open(\"data.txt\", \"r\") as file:\n",
    "    # Read and print each line\n",
    "    for line in file:\n",
    "        print(line.strip()) "
   ]
  },
  {
   "cell_type": "code",
   "execution_count": null,
   "id": "2e087b37",
   "metadata": {},
   "outputs": [],
   "source": []
  }
 ],
 "metadata": {
  "kernelspec": {
   "display_name": "Python 3 (ipykernel)",
   "language": "python",
   "name": "python3"
  },
  "language_info": {
   "codemirror_mode": {
    "name": "ipython",
    "version": 3
   },
   "file_extension": ".py",
   "mimetype": "text/x-python",
   "name": "python",
   "nbconvert_exporter": "python",
   "pygments_lexer": "ipython3",
   "version": "3.12.3"
  }
 },
 "nbformat": 4,
 "nbformat_minor": 5
}
